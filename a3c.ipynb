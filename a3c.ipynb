{
 "cells": [
  {
   "cell_type": "code",
   "execution_count": 1,
   "metadata": {},
   "outputs": [
    {
     "name": "stdout",
     "output_type": "stream",
     "text": [
      "The autoreload extension is already loaded. To reload it, use:\n",
      "  %reload_ext autoreload\n"
     ]
    }
   ],
   "source": [
    "%load_ext autoreload\n",
    "%autoreload 2"
   ]
  },
  {
   "cell_type": "code",
   "execution_count": 2,
   "metadata": {
    "collapsed": true
   },
   "outputs": [],
   "source": [
    "import tensorflow as tf\n",
    "import numpy as np\n",
    "import gym\n",
    "import gym.spaces\n",
    "from pylab import *\n",
    "import scipy.misc\n",
    "import time\n",
    "from collections import namedtuple, deque\n",
    "import time\n",
    "import os.path\n",
    "import os\n",
    "\n",
    "from train_ops import create_train_ops\n",
    "from utils import *\n",
    "import utils"
   ]
  },
  {
   "cell_type": "code",
   "execution_count": 3,
   "metadata": {
    "collapsed": true
   },
   "outputs": [],
   "source": [
    "G = 0.99\n",
    "N_ACTIONS = 3\n",
    "ACTIONS = np.arange(N_ACTIONS) + 1\n",
    "N_FRAMES_STACKED = 4\n",
    "N_MAX_NOOPS = 30"
   ]
  },
  {
   "cell_type": "markdown",
   "metadata": {},
   "source": [
    "## Network setup"
   ]
  },
  {
   "cell_type": "code",
   "execution_count": 4,
   "metadata": {
    "collapsed": true
   },
   "outputs": [],
   "source": [
    "Network = namedtuple('Network', 's a r a_softmax graph_v policy_loss value_loss summaries_train summaries_test')"
   ]
  },
  {
   "cell_type": "code",
   "execution_count": 5,
   "metadata": {
    "collapsed": true
   },
   "outputs": [],
   "source": [
    "def create_network(scope):\n",
    "    with tf.variable_scope(scope):\n",
    "        graph_s = tf.placeholder(tf.float32, [None, 80, 80, 4])\n",
    "        graph_action = tf.placeholder(tf.int64, [None])\n",
    "        graph_r = tf.placeholder(tf.float32, [None])\n",
    "\n",
    "        x = tf.layers.conv2d(\n",
    "                inputs=graph_s,\n",
    "                filters=32,\n",
    "                kernel_size=8,\n",
    "                strides=4,\n",
    "                activation=tf.nn.relu)\n",
    "\n",
    "        x = tf.layers.conv2d(\n",
    "                inputs=x,\n",
    "                filters=64,\n",
    "                kernel_size=4,\n",
    "                strides=2,\n",
    "                activation=tf.nn.relu)\n",
    "\n",
    "        x = tf.layers.conv2d(\n",
    "                inputs=x,\n",
    "                filters=64,\n",
    "                kernel_size=3,\n",
    "                strides=1,\n",
    "                activation=tf.nn.relu)\n",
    "\n",
    "        w, h, f = x.shape[1:]\n",
    "        x = tf.reshape(x, [-1, int(w * h * f)])\n",
    "\n",
    "        x = tf.layers.dense(\n",
    "                inputs=x,\n",
    "                units=512,\n",
    "                activation=tf.nn.relu)\n",
    "\n",
    "        a_logits = tf.layers.dense(\n",
    "                inputs=x,\n",
    "                units=N_ACTIONS,\n",
    "                activation=None)\n",
    "\n",
    "        a_softmax = tf.nn.softmax(a_logits)\n",
    "\n",
    "        graph_v = tf.layers.dense(\n",
    "            inputs=x,\n",
    "            units=1,\n",
    "            activation=None)\n",
    "        graph_v = graph_v[:, 0]\n",
    "\n",
    "        p = 0\n",
    "        for i in range(N_ACTIONS):\n",
    "            p += tf.cast(tf.equal(graph_action, i), tf.float32) * a_softmax[:, i]\n",
    "        # Log probability: higher is better for actions we want to encourage\n",
    "        # Negative log probability: lower is better for actions we want to encourage\n",
    "        # 1e-7: prevent log(0)\n",
    "        nlp = -1 * tf.log(p + 1e-7)\n",
    "        policy_loss = tf.reduce_mean(nlp * graph_r)\n",
    "\n",
    "        value_loss = tf.reduce_mean((graph_r - graph_v) ** 2)\n",
    "        \n",
    "        s1 = tf.summary.scalar('policy_loss_train', policy_loss)\n",
    "        s2 = tf.summary.scalar('value_loss_train', value_loss)\n",
    "        s3 = tf.summary.scalar('policy_loss_test', policy_loss)\n",
    "        s4 = tf.summary.scalar('value_loss_test', value_loss)\n",
    "        summaries_train = tf.summary.merge([s1, s2])\n",
    "        summaries_test = tf.summary.merge([s3, s4])\n",
    "        \n",
    "        network = Network(\n",
    "            s=graph_s,\n",
    "            a=graph_action,\n",
    "            r=graph_r,\n",
    "            a_softmax=a_softmax,\n",
    "            graph_v=graph_v,\n",
    "            policy_loss=policy_loss,\n",
    "            value_loss=value_loss,\n",
    "            summaries_train=summaries_train,\n",
    "            summaries_test=summaries_test)\n",
    "        \n",
    "        return network"
   ]
  },
  {
   "cell_type": "code",
   "execution_count": 6,
   "metadata": {
    "collapsed": true
   },
   "outputs": [],
   "source": [
    "def list_set(l, i, val):\n",
    "    assert(len(l) == i)\n",
    "    l.append(val)"
   ]
  },
  {
   "cell_type": "code",
   "execution_count": 15,
   "metadata": {
    "collapsed": true
   },
   "outputs": [],
   "source": [
    "class Worker:\n",
    "    \n",
    "    def __init__(self, worker_n, env_name, summary_writer):\n",
    "        self.env = EnvWrapper(gym.make(env_name), prepro2=prepro2, frameskip=4)\n",
    "        \n",
    "        worker_scope = \"worker_%d\" % worker_n\n",
    "        self.network = create_network(worker_scope)\n",
    "        self.summary_writer = summary_writer\n",
    "        self.scope = worker_scope\n",
    "        \n",
    "        self.reward_var = tf.Variable(0.0)\n",
    "        self.smoothed_reward = None\n",
    "        self.reward_summary = tf.summary.scalar('reward', self.reward_var)\n",
    "         \n",
    "        # TODO: do these need to be separate?\n",
    "        policy_optimizer = tf.train.AdamOptimizer(learning_rate=0.0005)\n",
    "        value_optimizer = tf.train.AdamOptimizer(learning_rate=0.0005)\n",
    "        \n",
    "        self.train_op = policy_optimizer.minimize(self.network.policy_loss)\n",
    "        \n",
    "        self.update_policy_gradients, self.apply_policy_gradients, self.zero_policy_gradients, self.grad_bufs_policy = \\\n",
    "            create_train_ops(self.network.policy_loss,\n",
    "                             policy_optimizer,\n",
    "                             update_scope=worker_scope,\n",
    "                             apply_scope='global')\n",
    "        \n",
    "        self.update_value_gradients, self.apply_value_gradients, self.zero_value_gradients, self.grad_bufs_value = \\\n",
    "            create_train_ops(self.network.value_loss,\n",
    "                             value_optimizer,\n",
    "                             update_scope=worker_scope,\n",
    "                             apply_scope='global')\n",
    "        \n",
    "        self.frame_stack = deque(maxlen=N_FRAMES_STACKED)\n",
    "        self.reset_env()\n",
    "\n",
    "        self.t_max = 10000\n",
    "        self.steps = 0\n",
    "        self.lifetime_experience = []\n",
    "        self.episode_rewards = []\n",
    "        \n",
    "        self.render = False\n",
    "\n",
    "    def reset_env(self):\n",
    "        self.env.reset()\n",
    "        n_noops = np.random.randint(low=0, high=N_MAX_NOOPS+1)\n",
    "        print(\"%d no-ops...\" % n_noops)\n",
    "        for i in range(n_noops):\n",
    "            o, _, _, _ = self.env.step(0)\n",
    "            self.frame_stack.append(o)\n",
    "        while len(self.frame_stack) < N_FRAMES_STACKED:\n",
    "            print(\"One more...\")\n",
    "            o, _, _, _ = self.env.step(0)\n",
    "            self.frame_stack.append(o)\n",
    "        print(\"No-ops done\")\n",
    "        \n",
    "    def append_to_lifetime_experience(self, feed_dict):\n",
    "        states = feed_dict[self.network.s]\n",
    "        actions = feed_dict[self.network.a]\n",
    "        r = feed_dict[self.network.r]\n",
    "        self.lifetime_experience.append((states, actions, r))\n",
    "        \n",
    "    def lifetime_experience_to_feed_dict(self):\n",
    "        states = []\n",
    "        actions = []\n",
    "        r = []\n",
    "        for tup in self.lifetime_experience:\n",
    "            tup_s, tup_a, tup_r = tup\n",
    "            states.extend(tup_s)\n",
    "            actions.extend(tup_a)\n",
    "            r.extend(tup_r)\n",
    "        feed_dict = {self.network.s: states,\n",
    "                     self.network.a: actions,\n",
    "                     self.network.r: r}\n",
    "        return feed_dict\n",
    "    \n",
    "    def run_summaries(self, feed_dict):\n",
    "        summaries = sess.run(self.network.summaries, feed_dict)\n",
    "        self.summary_writer.add_summary(summaries, self.steps)\n",
    "        \n",
    "    def log_rewards(self):\n",
    "        reward_sum = sum(self.episode_rewards)\n",
    "        print(\"Reward sum was\", reward_sum)\n",
    "        if self.smoothed_reward is None:\n",
    "            self.smoothed_reward = reward_sum\n",
    "        else:\n",
    "            self.smoothed_reward = self.smoothed_reward * 0.99 + reward_sum * 0.01\n",
    "        print(\"Smoothed reward sum is %.1f\" % self.smoothed_reward)\n",
    "        sess.run(tf.assign(self.reward_var, self.smoothed_reward))\n",
    "        summ = sess.run(self.reward_summary)\n",
    "        self.summary_writer.add_summary(summ, self.steps)\n",
    "        \n",
    "    def sync_network(self):\n",
    "        copy_network(sess,\n",
    "                     from_scope='global',\n",
    "                     to_scope=self.scope)\n",
    "        \n",
    "    def run_step(self):\n",
    "        states = []\n",
    "        actions = []\n",
    "        rewards = []\n",
    "        i = 0\n",
    "        \n",
    "        sess.run([self.zero_policy_gradients,\n",
    "                  self.zero_value_gradients])\n",
    "        self.sync_network()\n",
    "\n",
    "        list_set(states, i, self.frame_stack)\n",
    "\n",
    "        done = False\n",
    "        while not done and i < self.t_max:\n",
    "            #print(\"Step %d\" % i)\n",
    "            feed_dict = {self.network.s: [np.moveaxis(self.frame_stack, source=0, destination=-1)]}\n",
    "            a_p = sess.run(self.network.a_softmax, feed_dict=feed_dict)[0]\n",
    "            a = np.random.choice(ACTIONS, p=a_p)\n",
    "            list_set(actions, i, a)\n",
    "            \n",
    "            o, r, done, _ = self.env.step(a)\n",
    "            if self.render:\n",
    "                self.env.render()\n",
    "\n",
    "            if r != 0:\n",
    "                print(\"Got reward\", r)\n",
    "            self.frame_stack.append(o)\n",
    "            self.episode_rewards.append(r)\n",
    "            list_set(rewards, i, r)\n",
    "            list_set(states, i + 1, np.copy(self.frame_stack))\n",
    "\n",
    "            i += 1\n",
    "\n",
    "        if done:\n",
    "            print(\"Episode done!\")\n",
    "            r = 0\n",
    "        else:\n",
    "            # We're not at the end of an episode, so we have to estimate\n",
    "            # the value of the current state using the value network\n",
    "            feed_dict = {self.network.s: [np.moveaxis(states[i], source=0, destination=-1)]} # the last state\n",
    "            r = sess.run(self.network.graph_v, feed_dict=feed_dict)[0]\n",
    "\n",
    "        \"\"\"\n",
    "        rewards = discount_rewards(rewards, G)\n",
    "        rewards -= np.mean(rewards)\n",
    "        rewards /= np.std(rewards)\n",
    "        feed_dict = {self.network.s: states[:-1],\n",
    "                     self.network.a: list(np.array(actions) - 1), # map from possible actions (1, 2, 3) -> (0, 1, 2)\n",
    "                     self.network.r: rewards}\n",
    "        sess.run(self.train_op, feed_dict)\n",
    "        \"\"\"\n",
    "        # i - 1 to 0\n",
    "        # (Why start from i - 1, rather than i?\n",
    "        #  So that we miss out the last state.)\n",
    "        for j in reversed(range(i)):\n",
    "            if rewards[j] != 0:\n",
    "                r = rewards[j]\n",
    "            else:\n",
    "                r = rewards[j] + G * r\n",
    "            feed_dict = {self.network.s: [np.moveaxis(states[j], source=0, destination=-1)],\n",
    "                         self.network.a: [actions[j] - 1], # map from possible actions (1, 2, 3) -> (0, 1, 2)\n",
    "                         self.network.r: [r]}\n",
    "            sess.run(self.train_op, feed_dict)\n",
    "            #self.append_to_lifetime_experience(feed_dict)\n",
    "            sess.run([self.update_policy_gradients,\n",
    "                      self.update_value_gradients],\n",
    "                      feed_dict)\n",
    "        sess.run([self.apply_policy_gradients,\n",
    "                  self.apply_value_gradients])\n",
    "        sess.run([self.zero_policy_gradients,\n",
    "                  self.zero_value_gradients])\n",
    "        \n",
    "        if done:\n",
    "            summary_ops = self.network.summaries_test\n",
    "            #summ_feed_dict = self.lifetime_experience_to_feed_dict()\n",
    "            summ_feed_dict = feed_dict\n",
    "        else:\n",
    "            summary_ops = self.network.summaries_train\n",
    "            summ_feed_dict = feed_dict\n",
    "        #summaries = sess.run(summary_ops, summ_feed_dict)\n",
    "        #self.summary_writer.add_summary(summaries, self.steps)\n",
    "        \n",
    "        if done:\n",
    "            self.log_rewards()\n",
    "            self.episode_rewards = []\n",
    "        \n",
    "        self.steps += 1\n",
    "        \n",
    "        return done"
   ]
  },
  {
   "cell_type": "code",
   "execution_count": 16,
   "metadata": {
    "collapsed": true
   },
   "outputs": [],
   "source": [
    "tf.reset_default_graph()\n",
    "sess = tf.Session()"
   ]
  },
  {
   "cell_type": "code",
   "execution_count": 17,
   "metadata": {
    "collapsed": true
   },
   "outputs": [],
   "source": [
    "global_network = create_network('global')"
   ]
  },
  {
   "cell_type": "code",
   "execution_count": 18,
   "metadata": {
    "collapsed": true
   },
   "outputs": [],
   "source": [
    "dirname = 'summaries/' + str(int(time.time()))\n",
    "os.makedirs(dirname)\n",
    "summary_writer = tf.summary.FileWriter(dirname, flush_secs=1)"
   ]
  },
  {
   "cell_type": "code",
   "execution_count": 19,
   "metadata": {},
   "outputs": [
    {
     "name": "stderr",
     "output_type": "stream",
     "text": [
      "[2017-08-16 15:07:13,182] Making new env: PongNoFrameskip-v4\n"
     ]
    },
    {
     "name": "stdout",
     "output_type": "stream",
     "text": [
      "22 no-ops...\n",
      "No-ops done\n"
     ]
    }
   ],
   "source": [
    "workers = []\n",
    "for i in range(1):\n",
    "    workers.append(Worker(i, 'PongNoFrameskip-v4', summary_writer))"
   ]
  },
  {
   "cell_type": "code",
   "execution_count": 20,
   "metadata": {
    "collapsed": true
   },
   "outputs": [],
   "source": [
    "sess.run(tf.global_variables_initializer())"
   ]
  },
  {
   "cell_type": "code",
   "execution_count": 21,
   "metadata": {},
   "outputs": [],
   "source": [
    "workers[0].render = True"
   ]
  },
  {
   "cell_type": "code",
   "execution_count": 22,
   "metadata": {},
   "outputs": [
    {
     "name": "stdout",
     "output_type": "stream",
     "text": [
      "Got reward -1.0\n",
      "Got reward -1.0\n",
      "Got reward -1.0\n",
      "Got reward -1.0\n",
      "Got reward -1.0\n",
      "Got reward -1.0\n",
      "Got reward -1.0\n",
      "Got reward -1.0\n",
      "Got reward -1.0\n",
      "Got reward -1.0\n",
      "Got reward -1.0\n",
      "Got reward -1.0\n",
      "Got reward -1.0\n",
      "Got reward -1.0\n",
      "Got reward -1.0\n",
      "Got reward -1.0\n",
      "Got reward -1.0\n",
      "Got reward -1.0\n",
      "Got reward -1.0\n",
      "Got reward -1.0\n",
      "Got reward -1.0\n",
      "Episode done!\n"
     ]
    },
    {
     "ename": "KeyboardInterrupt",
     "evalue": "",
     "output_type": "error",
     "traceback": [
      "\u001b[0;31m---------------------------------------------------------------------------\u001b[0m",
      "\u001b[0;31mKeyboardInterrupt\u001b[0m                         Traceback (most recent call last)",
      "\u001b[0;32m<ipython-input-22-dee7add0495c>\u001b[0m in \u001b[0;36m<module>\u001b[0;34m()\u001b[0m\n\u001b[1;32m      1\u001b[0m \u001b[0;32mwhile\u001b[0m \u001b[0;32mTrue\u001b[0m\u001b[0;34m:\u001b[0m\u001b[0;34m\u001b[0m\u001b[0m\n\u001b[0;32m----> 2\u001b[0;31m     \u001b[0mdone\u001b[0m \u001b[0;34m=\u001b[0m \u001b[0mworkers\u001b[0m\u001b[0;34m[\u001b[0m\u001b[0;36m0\u001b[0m\u001b[0;34m]\u001b[0m\u001b[0;34m.\u001b[0m\u001b[0mrun_step\u001b[0m\u001b[0;34m(\u001b[0m\u001b[0;34m)\u001b[0m\u001b[0;34m\u001b[0m\u001b[0m\n\u001b[0m\u001b[1;32m      3\u001b[0m     \u001b[0;32mwhile\u001b[0m \u001b[0;32mnot\u001b[0m \u001b[0mdone\u001b[0m\u001b[0;34m:\u001b[0m\u001b[0;34m\u001b[0m\u001b[0m\n\u001b[1;32m      4\u001b[0m         \u001b[0mdone\u001b[0m \u001b[0;34m=\u001b[0m \u001b[0mworkers\u001b[0m\u001b[0;34m[\u001b[0m\u001b[0;36m0\u001b[0m\u001b[0;34m]\u001b[0m\u001b[0;34m.\u001b[0m\u001b[0mrun_step\u001b[0m\u001b[0;34m(\u001b[0m\u001b[0;34m)\u001b[0m\u001b[0;34m\u001b[0m\u001b[0m\n\u001b[1;32m      5\u001b[0m     \u001b[0mworkers\u001b[0m\u001b[0;34m[\u001b[0m\u001b[0;36m0\u001b[0m\u001b[0;34m]\u001b[0m\u001b[0;34m.\u001b[0m\u001b[0mreset_env\u001b[0m\u001b[0;34m(\u001b[0m\u001b[0;34m)\u001b[0m\u001b[0;34m\u001b[0m\u001b[0m\n",
      "\u001b[0;32m<ipython-input-15-0cf1bcb3bf80>\u001b[0m in \u001b[0;36mrun_step\u001b[0;34m(self)\u001b[0m\n\u001b[1;32m    155\u001b[0m                          \u001b[0mself\u001b[0m\u001b[0;34m.\u001b[0m\u001b[0mnetwork\u001b[0m\u001b[0;34m.\u001b[0m\u001b[0ma\u001b[0m\u001b[0;34m:\u001b[0m \u001b[0;34m[\u001b[0m\u001b[0mactions\u001b[0m\u001b[0;34m[\u001b[0m\u001b[0mj\u001b[0m\u001b[0;34m]\u001b[0m \u001b[0;34m-\u001b[0m \u001b[0;36m1\u001b[0m\u001b[0;34m]\u001b[0m\u001b[0;34m,\u001b[0m \u001b[0;31m# map from possible actions (1, 2, 3) -> (0, 1, 2)\u001b[0m\u001b[0;34m\u001b[0m\u001b[0m\n\u001b[1;32m    156\u001b[0m                          self.network.r: [r]}\n\u001b[0;32m--> 157\u001b[0;31m             \u001b[0msess\u001b[0m\u001b[0;34m.\u001b[0m\u001b[0mrun\u001b[0m\u001b[0;34m(\u001b[0m\u001b[0mself\u001b[0m\u001b[0;34m.\u001b[0m\u001b[0mtrain_op\u001b[0m\u001b[0;34m,\u001b[0m \u001b[0mfeed_dict\u001b[0m\u001b[0;34m)\u001b[0m\u001b[0;34m\u001b[0m\u001b[0m\n\u001b[0m\u001b[1;32m    158\u001b[0m             \u001b[0;31m#self.append_to_lifetime_experience(feed_dict)\u001b[0m\u001b[0;34m\u001b[0m\u001b[0;34m\u001b[0m\u001b[0m\n\u001b[1;32m    159\u001b[0m             sess.run([self.update_policy_gradients,\n",
      "\u001b[0;32m~/tensorflow/lib/python3.5/site-packages/tensorflow/python/client/session.py\u001b[0m in \u001b[0;36mrun\u001b[0;34m(self, fetches, feed_dict, options, run_metadata)\u001b[0m\n\u001b[1;32m    787\u001b[0m     \u001b[0;32mtry\u001b[0m\u001b[0;34m:\u001b[0m\u001b[0;34m\u001b[0m\u001b[0m\n\u001b[1;32m    788\u001b[0m       result = self._run(None, fetches, feed_dict, options_ptr,\n\u001b[0;32m--> 789\u001b[0;31m                          run_metadata_ptr)\n\u001b[0m\u001b[1;32m    790\u001b[0m       \u001b[0;32mif\u001b[0m \u001b[0mrun_metadata\u001b[0m\u001b[0;34m:\u001b[0m\u001b[0;34m\u001b[0m\u001b[0m\n\u001b[1;32m    791\u001b[0m         \u001b[0mproto_data\u001b[0m \u001b[0;34m=\u001b[0m \u001b[0mtf_session\u001b[0m\u001b[0;34m.\u001b[0m\u001b[0mTF_GetBuffer\u001b[0m\u001b[0;34m(\u001b[0m\u001b[0mrun_metadata_ptr\u001b[0m\u001b[0;34m)\u001b[0m\u001b[0;34m\u001b[0m\u001b[0m\n",
      "\u001b[0;32m~/tensorflow/lib/python3.5/site-packages/tensorflow/python/client/session.py\u001b[0m in \u001b[0;36m_run\u001b[0;34m(self, handle, fetches, feed_dict, options, run_metadata)\u001b[0m\n\u001b[1;32m    995\u001b[0m     \u001b[0;32mif\u001b[0m \u001b[0mfinal_fetches\u001b[0m \u001b[0;32mor\u001b[0m \u001b[0mfinal_targets\u001b[0m\u001b[0;34m:\u001b[0m\u001b[0;34m\u001b[0m\u001b[0m\n\u001b[1;32m    996\u001b[0m       results = self._do_run(handle, final_targets, final_fetches,\n\u001b[0;32m--> 997\u001b[0;31m                              feed_dict_string, options, run_metadata)\n\u001b[0m\u001b[1;32m    998\u001b[0m     \u001b[0;32melse\u001b[0m\u001b[0;34m:\u001b[0m\u001b[0;34m\u001b[0m\u001b[0m\n\u001b[1;32m    999\u001b[0m       \u001b[0mresults\u001b[0m \u001b[0;34m=\u001b[0m \u001b[0;34m[\u001b[0m\u001b[0;34m]\u001b[0m\u001b[0;34m\u001b[0m\u001b[0m\n",
      "\u001b[0;32m~/tensorflow/lib/python3.5/site-packages/tensorflow/python/client/session.py\u001b[0m in \u001b[0;36m_do_run\u001b[0;34m(self, handle, target_list, fetch_list, feed_dict, options, run_metadata)\u001b[0m\n\u001b[1;32m   1130\u001b[0m     \u001b[0;32mif\u001b[0m \u001b[0mhandle\u001b[0m \u001b[0;32mis\u001b[0m \u001b[0;32mNone\u001b[0m\u001b[0;34m:\u001b[0m\u001b[0;34m\u001b[0m\u001b[0m\n\u001b[1;32m   1131\u001b[0m       return self._do_call(_run_fn, self._session, feed_dict, fetch_list,\n\u001b[0;32m-> 1132\u001b[0;31m                            target_list, options, run_metadata)\n\u001b[0m\u001b[1;32m   1133\u001b[0m     \u001b[0;32melse\u001b[0m\u001b[0;34m:\u001b[0m\u001b[0;34m\u001b[0m\u001b[0m\n\u001b[1;32m   1134\u001b[0m       return self._do_call(_prun_fn, self._session, handle, feed_dict,\n",
      "\u001b[0;32m~/tensorflow/lib/python3.5/site-packages/tensorflow/python/client/session.py\u001b[0m in \u001b[0;36m_do_call\u001b[0;34m(self, fn, *args)\u001b[0m\n\u001b[1;32m   1137\u001b[0m   \u001b[0;32mdef\u001b[0m \u001b[0m_do_call\u001b[0m\u001b[0;34m(\u001b[0m\u001b[0mself\u001b[0m\u001b[0;34m,\u001b[0m \u001b[0mfn\u001b[0m\u001b[0;34m,\u001b[0m \u001b[0;34m*\u001b[0m\u001b[0margs\u001b[0m\u001b[0;34m)\u001b[0m\u001b[0;34m:\u001b[0m\u001b[0;34m\u001b[0m\u001b[0m\n\u001b[1;32m   1138\u001b[0m     \u001b[0;32mtry\u001b[0m\u001b[0;34m:\u001b[0m\u001b[0;34m\u001b[0m\u001b[0m\n\u001b[0;32m-> 1139\u001b[0;31m       \u001b[0;32mreturn\u001b[0m \u001b[0mfn\u001b[0m\u001b[0;34m(\u001b[0m\u001b[0;34m*\u001b[0m\u001b[0margs\u001b[0m\u001b[0;34m)\u001b[0m\u001b[0;34m\u001b[0m\u001b[0m\n\u001b[0m\u001b[1;32m   1140\u001b[0m     \u001b[0;32mexcept\u001b[0m \u001b[0merrors\u001b[0m\u001b[0;34m.\u001b[0m\u001b[0mOpError\u001b[0m \u001b[0;32mas\u001b[0m \u001b[0me\u001b[0m\u001b[0;34m:\u001b[0m\u001b[0;34m\u001b[0m\u001b[0m\n\u001b[1;32m   1141\u001b[0m       \u001b[0mmessage\u001b[0m \u001b[0;34m=\u001b[0m \u001b[0mcompat\u001b[0m\u001b[0;34m.\u001b[0m\u001b[0mas_text\u001b[0m\u001b[0;34m(\u001b[0m\u001b[0me\u001b[0m\u001b[0;34m.\u001b[0m\u001b[0mmessage\u001b[0m\u001b[0;34m)\u001b[0m\u001b[0;34m\u001b[0m\u001b[0m\n",
      "\u001b[0;32m~/tensorflow/lib/python3.5/site-packages/tensorflow/python/client/session.py\u001b[0m in \u001b[0;36m_run_fn\u001b[0;34m(session, feed_dict, fetch_list, target_list, options, run_metadata)\u001b[0m\n\u001b[1;32m   1119\u001b[0m         return tf_session.TF_Run(session, options,\n\u001b[1;32m   1120\u001b[0m                                  \u001b[0mfeed_dict\u001b[0m\u001b[0;34m,\u001b[0m \u001b[0mfetch_list\u001b[0m\u001b[0;34m,\u001b[0m \u001b[0mtarget_list\u001b[0m\u001b[0;34m,\u001b[0m\u001b[0;34m\u001b[0m\u001b[0m\n\u001b[0;32m-> 1121\u001b[0;31m                                  status, run_metadata)\n\u001b[0m\u001b[1;32m   1122\u001b[0m \u001b[0;34m\u001b[0m\u001b[0m\n\u001b[1;32m   1123\u001b[0m     \u001b[0;32mdef\u001b[0m \u001b[0m_prun_fn\u001b[0m\u001b[0;34m(\u001b[0m\u001b[0msession\u001b[0m\u001b[0;34m,\u001b[0m \u001b[0mhandle\u001b[0m\u001b[0;34m,\u001b[0m \u001b[0mfeed_dict\u001b[0m\u001b[0;34m,\u001b[0m \u001b[0mfetch_list\u001b[0m\u001b[0;34m)\u001b[0m\u001b[0;34m:\u001b[0m\u001b[0;34m\u001b[0m\u001b[0m\n",
      "\u001b[0;31mKeyboardInterrupt\u001b[0m: "
     ]
    }
   ],
   "source": [
    "while True:\n",
    "    done = workers[0].run_step()\n",
    "    while not done:\n",
    "        done = workers[0].run_step()\n",
    "    workers[0].reset_env()"
   ]
  },
  {
   "cell_type": "code",
   "execution_count": null,
   "metadata": {
    "collapsed": true
   },
   "outputs": [],
   "source": []
  }
 ],
 "metadata": {
  "kernelspec": {
   "display_name": "Python 3",
   "language": "python",
   "name": "python3"
  },
  "language_info": {
   "codemirror_mode": {
    "name": "ipython",
    "version": 3
   },
   "file_extension": ".py",
   "mimetype": "text/x-python",
   "name": "python",
   "nbconvert_exporter": "python",
   "pygments_lexer": "ipython3",
   "version": "3.5.2"
  }
 },
 "nbformat": 4,
 "nbformat_minor": 2
}
