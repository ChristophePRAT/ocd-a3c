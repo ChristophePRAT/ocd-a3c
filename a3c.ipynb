{
 "cells": [
  {
   "cell_type": "code",
   "execution_count": 1,
   "metadata": {},
   "outputs": [],
   "source": [
    "%load_ext autoreload\n",
    "%autoreload 2"
   ]
  },
  {
   "cell_type": "code",
   "execution_count": 2,
   "metadata": {
    "collapsed": true
   },
   "outputs": [],
   "source": [
    "import tensorflow as tf\n",
    "import numpy as np\n",
    "import gym\n",
    "import gym.spaces\n",
    "from pylab import *\n",
    "import scipy.misc\n",
    "import time\n",
    "from collections import namedtuple, deque\n",
    "import time\n",
    "import os.path\n",
    "import os\n",
    "import multiprocessing\n",
    "\n",
    "from train_ops import create_train_ops\n",
    "from utils import *\n",
    "import utils"
   ]
  },
  {
   "cell_type": "code",
   "execution_count": 3,
   "metadata": {
    "collapsed": true
   },
   "outputs": [],
   "source": [
    "G = 0.99\n",
    "N_ACTIONS = 3\n",
    "ACTIONS = np.arange(N_ACTIONS) + 1\n",
    "N_FRAMES_STACKED = 4\n",
    "N_MAX_NOOPS = 30"
   ]
  },
  {
   "cell_type": "markdown",
   "metadata": {},
   "source": [
    "## Network setup"
   ]
  },
  {
   "cell_type": "code",
   "execution_count": 4,
   "metadata": {
    "collapsed": true
   },
   "outputs": [],
   "source": [
    "Network = namedtuple('Network', 's a r a_softmax graph_v policy_loss value_loss')"
   ]
  },
  {
   "cell_type": "code",
   "execution_count": 5,
   "metadata": {
    "collapsed": true
   },
   "outputs": [],
   "source": [
    "def create_network(scope):\n",
    "    with tf.variable_scope(scope):\n",
    "        graph_s = tf.placeholder(tf.float32, [None, 80, 80, 4])\n",
    "        graph_action = tf.placeholder(tf.int64, [None])\n",
    "        graph_r = tf.placeholder(tf.float32, [None])\n",
    "\n",
    "        x = tf.layers.conv2d(\n",
    "                inputs=graph_s,\n",
    "                filters=32,\n",
    "                kernel_size=8,\n",
    "                strides=4,\n",
    "                activation=tf.nn.relu)\n",
    "\n",
    "        x = tf.layers.conv2d(\n",
    "                inputs=x,\n",
    "                filters=64,\n",
    "                kernel_size=4,\n",
    "                strides=2,\n",
    "                activation=tf.nn.relu)\n",
    "\n",
    "        x = tf.layers.conv2d(\n",
    "                inputs=x,\n",
    "                filters=64,\n",
    "                kernel_size=3,\n",
    "                strides=1,\n",
    "                activation=tf.nn.relu)\n",
    "\n",
    "        w, h, f = x.shape[1:]\n",
    "        x = tf.reshape(x, [-1, int(w * h * f)])\n",
    "\n",
    "        x = tf.layers.dense(\n",
    "                inputs=x,\n",
    "                units=512,\n",
    "                activation=tf.nn.relu)\n",
    "\n",
    "        a_logits = tf.layers.dense(\n",
    "                inputs=x,\n",
    "                units=N_ACTIONS,\n",
    "                activation=None)\n",
    "\n",
    "        a_softmax = tf.nn.softmax(a_logits)\n",
    "\n",
    "        graph_v = tf.layers.dense(\n",
    "            inputs=x,\n",
    "            units=1,\n",
    "            activation=None)\n",
    "        graph_v = graph_v[:, 0]\n",
    "\n",
    "        p = 0\n",
    "        for i in range(N_ACTIONS):\n",
    "            p += tf.cast(tf.equal(graph_action, i), tf.float32) * a_softmax[:, i]\n",
    "        # Log probability: higher is better for actions we want to encourage\n",
    "        # Negative log probability: lower is better for actions we want to encourage\n",
    "        # 1e-7: prevent log(0)\n",
    "        nlp = -1 * tf.log(p + 1e-7)\n",
    "        policy_loss = tf.reduce_mean(nlp * graph_r)\n",
    "\n",
    "        value_loss = tf.reduce_mean((graph_r - graph_v) ** 2)\n",
    "        \n",
    "        network = Network(\n",
    "            s=graph_s,\n",
    "            a=graph_action,\n",
    "            r=graph_r,\n",
    "            a_softmax=a_softmax,\n",
    "            graph_v=graph_v,\n",
    "            policy_loss=policy_loss,\n",
    "            value_loss=value_loss)\n",
    "        \n",
    "        return network"
   ]
  },
  {
   "cell_type": "code",
   "execution_count": 6,
   "metadata": {
    "collapsed": true
   },
   "outputs": [],
   "source": [
    "def list_set(l, i, val):\n",
    "    assert(len(l) == i)\n",
    "    l.append(val)"
   ]
  },
  {
   "cell_type": "code",
   "execution_count": 7,
   "metadata": {
    "collapsed": true
   },
   "outputs": [],
   "source": [
    "class Worker:\n",
    "    \n",
    "    def __init__(self, worker_n, env_name, summary_writer):\n",
    "        self.env = EnvWrapper(gym.make(env_name), prepro2=prepro2, frameskip=4)\n",
    "        \n",
    "        worker_scope = \"worker_%d\" % worker_n\n",
    "        self.network = create_network(worker_scope)\n",
    "        self.summary_writer = summary_writer\n",
    "        self.scope = worker_scope\n",
    "        \n",
    "        self.reward_var = tf.Variable(0.0)\n",
    "        self.reward_summary = tf.summary.scalar('reward', self.reward_var)\n",
    "        self.smoothed_reward = None\n",
    "         \n",
    "        policy_optimizer = tf.train.AdamOptimizer(learning_rate=0.0005)\n",
    "        value_optimizer = tf.train.AdamOptimizer(learning_rate=0.0005)\n",
    "                \n",
    "        self.update_policy_gradients, self.apply_policy_gradients, self.zero_policy_gradients, self.grad_bufs_policy = \\\n",
    "            create_train_ops(self.network.policy_loss,\n",
    "                             policy_optimizer,\n",
    "                             update_scope=worker_scope,\n",
    "                             apply_scope='global')\n",
    "        \n",
    "        self.update_value_gradients, self.apply_value_gradients, self.zero_value_gradients, self.grad_bufs_value = \\\n",
    "            create_train_ops(self.network.value_loss,\n",
    "                             value_optimizer,\n",
    "                             update_scope=worker_scope,\n",
    "                             apply_scope='global')\n",
    "        \n",
    "        self.frame_stack = deque(maxlen=N_FRAMES_STACKED)\n",
    "        self.reset_env()\n",
    "\n",
    "        self.t_max = 10000\n",
    "        self.steps = 0\n",
    "        self.episode_rewards = []\n",
    "        self.render = False\n",
    "\n",
    "    def reset_env(self):\n",
    "        self.env.reset()\n",
    "        n_noops = np.random.randint(low=0, high=N_MAX_NOOPS+1)\n",
    "        print(\"%d no-ops...\" % n_noops)\n",
    "        for i in range(n_noops):\n",
    "            o, _, _, _ = self.env.step(0)\n",
    "            self.frame_stack.append(o)\n",
    "        while len(self.frame_stack) < N_FRAMES_STACKED:\n",
    "            print(\"One more...\")\n",
    "            o, _, _, _ = self.env.step(0)\n",
    "            self.frame_stack.append(o)\n",
    "        print(\"No-ops done\")\n",
    "                \n",
    "    def log_rewards(self):\n",
    "        reward_sum = sum(self.episode_rewards)\n",
    "        print(\"Reward sum was\", reward_sum)\n",
    "        \n",
    "        if self.smoothed_reward is None:\n",
    "            self.smoothed_reward = reward_sum\n",
    "        else:\n",
    "            self.smoothed_reward = self.smoothed_reward * 0.99 + reward_sum * 0.01\n",
    "        print(\"Smoothed reward sum is %.1f\" % self.smoothed_reward)\n",
    "        \n",
    "        sess.run(tf.assign(self.reward_var, self.smoothed_reward))\n",
    "        summ = sess.run(self.reward_summary)\n",
    "        self.summary_writer.add_summary(summ, self.steps)\n",
    "        \n",
    "    def sync_network(self):\n",
    "        copy_network(sess,\n",
    "                     from_scope='global',\n",
    "                     to_scope=self.scope)\n",
    "        \n",
    "    def run_step(self):\n",
    "        states = []\n",
    "        actions = []\n",
    "        rewards = []\n",
    "        i = 0\n",
    "        \n",
    "        sess.run([self.zero_policy_gradients,\n",
    "                  self.zero_value_gradients])\n",
    "        self.sync_network()\n",
    "\n",
    "        list_set(states, i, self.frame_stack)\n",
    "\n",
    "        done = False\n",
    "        while not done and i < self.t_max:\n",
    "            #print(\"Step %d\" % i)\n",
    "            s = np.moveaxis(self.frame_stack, source=0, destination=-1)\n",
    "            feed_dict = {self.network.s: [s]}\n",
    "            a_p = sess.run(self.network.a_softmax, feed_dict=feed_dict)[0]\n",
    "            a = np.random.choice(ACTIONS, p=a_p)\n",
    "            list_set(actions, i, a)\n",
    "            \n",
    "            o, r, done, _ = self.env.step(a)\n",
    "            if self.render:\n",
    "                self.env.render()\n",
    "\n",
    "            if r != 0:\n",
    "                print(\"Got reward\", r)\n",
    "            self.frame_stack.append(o)\n",
    "            self.episode_rewards.append(r)\n",
    "            list_set(rewards, i, r)\n",
    "            list_set(states, i + 1, np.copy(self.frame_stack))\n",
    "\n",
    "            i += 1\n",
    "\n",
    "        if done:\n",
    "            print(\"Episode done!\")\n",
    "            r = 0\n",
    "        else:\n",
    "            # We're not at the end of an episode, so we have to estimate\n",
    "            # the value of the current state using the value network\n",
    "            s = np.moveaxis(states[i], source=0, destination=-1) # the last state\n",
    "            feed_dict = {self.network.s: [s]}\n",
    "            r = sess.run(self.network.graph_v, feed_dict=feed_dict)[0]\n",
    "        \n",
    "        # i - 1 to 0\n",
    "        # (Why start from i - 1, rather than i?\n",
    "        #  So that we miss out the last state.)\n",
    "        for j in reversed(range(i)):\n",
    "            s = np.moveaxis(states[j], source=0, destination=-1)\n",
    "\n",
    "            if rewards[j] != 0:\n",
    "                r = rewards[j]\n",
    "            else:\n",
    "                r = rewards[j] + G * r\n",
    "            feed_dict = {self.network.s: [s]}\n",
    "            v = sess.run(self.network.graph_v, feed_dict=feed_dict)[0]\n",
    "            advantage = r - v\n",
    "            \n",
    "            feed_dict = {self.network.s: [s],\n",
    "                         self.network.a: [actions[j] - 1], # map from possible actions (1, 2, 3) -> (0, 1, 2)\n",
    "                         self.network.r: [advantage]}\n",
    "            sess.run([self.update_policy_gradients,\n",
    "                      self.update_value_gradients],\n",
    "                      feed_dict)\n",
    "        sess.run([self.apply_policy_gradients,\n",
    "                  self.apply_value_gradients])\n",
    "        sess.run([self.zero_policy_gradients,\n",
    "                  self.zero_value_gradients])\n",
    "\n",
    "        if done:\n",
    "            self.log_rewards()\n",
    "            self.episode_rewards = []\n",
    "        \n",
    "        self.steps += 1\n",
    "        \n",
    "        return done"
   ]
  },
  {
   "cell_type": "code",
   "execution_count": 8,
   "metadata": {
    "collapsed": true
   },
   "outputs": [],
   "source": [
    "dirname = 'summaries/' + str(int(time.time()))\n",
    "os.makedirs(dirname)\n",
    "summary_writer = tf.summary.FileWriter(dirname, flush_secs=1)"
   ]
  },
  {
   "cell_type": "code",
   "execution_count": 9,
   "metadata": {
    "collapsed": true
   },
   "outputs": [],
   "source": [
    "cluster = tf.train.ClusterSpec({\"worker\": [\"localhost:2222\"],\n",
    "                                \"ps\":     [\"localhost:2223\"]})"
   ]
  },
  {
   "cell_type": "code",
   "execution_count": 17,
   "metadata": {
    "collapsed": true
   },
   "outputs": [],
   "source": [
    "cluster = tf.train.ClusterSpec({\"worker\": [\"localhost:2222\"],\n",
    "                                \"ps\":     [\"localhost:2223\"],\n",
    "                                \"debug\":  [\"localhost:2224\"]})"
   ]
  },
  {
   "cell_type": "code",
   "execution_count": 10,
   "metadata": {
    "collapsed": true
   },
   "outputs": [],
   "source": [
    "def ps():\n",
    "    tf.reset_default_graph()\n",
    "    server = tf.train.Server(cluster, job_name=\"ps\")\n",
    "    sess = tf.Session(server.target)\n",
    "    with tf.device(\"/job:ps/task:0\"):\n",
    "        global_network = create_network('global')\n",
    "    sess.run(tf.global_variables_initializer())\n",
    "    bo = tf.get_default_graph().get_operation_by_name('global/dense/bias').outputs[0]\n",
    "    sess.run(tf.assign(bo, np.ones(512)))\n",
    "    bo = tf.get_default_graph().get_operation_by_name('global/dense/bias').outputs[0]\n",
    "    print(np.sum(sess.run(bo)))\n",
    "    print(\"Joining...\")\n",
    "    server.join()"
   ]
  },
  {
   "cell_type": "code",
   "execution_count": 11,
   "metadata": {
    "collapsed": true
   },
   "outputs": [],
   "source": [
    "def worker(i, summary_writer):\n",
    "    tf.reset_default_graph()\n",
    "    server = tf.train.Server(\n",
    "        cluster, job_name=\"worker\", task_index=i)\n",
    "    sess = tf.Session(server.target)\n",
    "    with tf.device(\"/job:ps/task:0\"):\n",
    "        global_network = create_network('global')\n",
    "    with tf.device(\"/job:worker/task:%d\" % i):\n",
    "        w = Worker(i, 'PongNoFrameskip-v4', summary_writer)\n",
    "    sess.run(tf.global_variables_initializer())\n",
    "    print(\"Joining...\")\n",
    "    server.join()"
   ]
  },
  {
   "cell_type": "code",
   "execution_count": 12,
   "metadata": {
    "collapsed": true
   },
   "outputs": [],
   "source": [
    "def debug():\n",
    "    tf.reset_default_graph()\n",
    "    server = tf.train.Server(cluster, job_name=\"debug\")\n",
    "    sess = tf.Session(server.target)\n",
    "    with tf.device(\"/job:ps/task:0\"):\n",
    "        global_network = create_network('global')\n",
    "    while len(sess.run(tf.report_uninitialized_variables())) > 0:\n",
    "        print(\"Sleeping...\")\n",
    "        time.sleep(1)\n",
    "    bo = tf.get_default_graph().get_operation_by_name('global/dense/bias').outputs[0]\n",
    "    print(np.sum(sess.run(bo)))\n",
    "    server.join()"
   ]
  },
  {
   "cell_type": "code",
   "execution_count": 16,
   "metadata": {},
   "outputs": [],
   "source": [
    "if p1.is_alive():\n",
    "    p1.terminate()\n",
    "if p2.is_alive():\n",
    "    p2.terminate()"
   ]
  },
  {
   "cell_type": "code",
   "execution_count": 24,
   "metadata": {
    "collapsed": true
   },
   "outputs": [],
   "source": [
    "p1 = multiprocessing.Process(target=ps)\n",
    "p2 = multiprocessing.Process(target=worker, args=(0, summary_writer))"
   ]
  },
  {
   "cell_type": "code",
   "execution_count": 25,
   "metadata": {},
   "outputs": [
    {
     "name": "stdout",
     "output_type": "stream",
     "text": [
      "512.0\n",
      "Joining...\n"
     ]
    }
   ],
   "source": [
    "p1.start()"
   ]
  },
  {
   "cell_type": "code",
   "execution_count": 26,
   "metadata": {},
   "outputs": [
    {
     "name": "stderr",
     "output_type": "stream",
     "text": [
      "[2017-08-20 05:55:03,699] Making new env: PongNoFrameskip-v4\n"
     ]
    },
    {
     "name": "stdout",
     "output_type": "stream",
     "text": [
      "1 no-ops...\n",
      "One more...\n",
      "One more...\n",
      "One more...\n",
      "No-ops done\n",
      "Joining...\n"
     ]
    }
   ],
   "source": [
    "p2.start()"
   ]
  },
  {
   "cell_type": "code",
   "execution_count": 28,
   "metadata": {},
   "outputs": [
    {
     "name": "stdout",
     "output_type": "stream",
     "text": [
      "512.0\n"
     ]
    }
   ],
   "source": [
    "if 'pd' in locals() and pd.is_alive():\n",
    "    pd.terminate()\n",
    "pd = multiprocessing.Process(target=debug)\n",
    "pd.start()"
   ]
  },
  {
   "cell_type": "code",
   "execution_count": null,
   "metadata": {
    "collapsed": true
   },
   "outputs": [],
   "source": [
    "saver = tf.train.Saver()\n",
    "checkpoint_file = os.path.join('checkpoints', 'network.ckpt')"
   ]
  },
  {
   "cell_type": "code",
   "execution_count": null,
   "metadata": {
    "collapsed": true
   },
   "outputs": [],
   "source": [
    "saver.restore(sess, checkpoint_file)"
   ]
  },
  {
   "cell_type": "code",
   "execution_count": null,
   "metadata": {
    "collapsed": true
   },
   "outputs": [],
   "source": [
    "workers[0].render = True"
   ]
  },
  {
   "cell_type": "code",
   "execution_count": null,
   "metadata": {
    "collapsed": true
   },
   "outputs": [],
   "source": [
    "while True:\n",
    "    try:\n",
    "        done0 = workers[0].run_step()\n",
    "        done1 = workers[1].run_step()\n",
    "        if done0:\n",
    "            workers[0].reset_env()\n",
    "        if done1:\n",
    "            workers[1].reset_env()\n",
    "    except KeyboardInterrupt:\n",
    "        print(\"Interrupted\")\n",
    "        break"
   ]
  },
  {
   "cell_type": "code",
   "execution_count": null,
   "metadata": {
    "collapsed": true
   },
   "outputs": [],
   "source": [
    "saver.save(sess, checkpoint_file)"
   ]
  }
 ],
 "metadata": {
  "kernelspec": {
   "display_name": "Python 3",
   "language": "python",
   "name": "python3"
  },
  "language_info": {
   "codemirror_mode": {
    "name": "ipython",
    "version": 3
   },
   "file_extension": ".py",
   "mimetype": "text/x-python",
   "name": "python",
   "nbconvert_exporter": "python",
   "pygments_lexer": "ipython3",
   "version": "3.5.2"
  }
 },
 "nbformat": 4,
 "nbformat_minor": 2
}
