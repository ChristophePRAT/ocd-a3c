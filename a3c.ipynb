{
 "cells": [
  {
   "cell_type": "code",
   "execution_count": 1,
   "metadata": {
    "collapsed": true
   },
   "outputs": [],
   "source": [
    "%load_ext autoreload\n",
    "%autoreload 2"
   ]
  },
  {
   "cell_type": "code",
   "execution_count": 2,
   "metadata": {
    "collapsed": true
   },
   "outputs": [],
   "source": [
    "import tensorflow as tf\n",
    "import numpy as np\n",
    "import gym\n",
    "import gym.spaces\n",
    "from pylab import *\n",
    "import scipy.misc\n",
    "import time\n",
    "from collections import namedtuple\n",
    "\n",
    "from train_ops import create_train_ops\n",
    "from utils import *"
   ]
  },
  {
   "cell_type": "code",
   "execution_count": 3,
   "metadata": {
    "collapsed": true
   },
   "outputs": [],
   "source": [
    "%matplotlib notebook"
   ]
  },
  {
   "cell_type": "code",
   "execution_count": 4,
   "metadata": {
    "collapsed": true
   },
   "outputs": [],
   "source": [
    "G = 0.99\n",
    "N_ACTIONS = 3\n",
    "ACTIONS = np.arange(N_ACTIONS) + 1"
   ]
  },
  {
   "cell_type": "markdown",
   "metadata": {},
   "source": [
    "## Network setup"
   ]
  },
  {
   "cell_type": "code",
   "execution_count": 5,
   "metadata": {
    "collapsed": true
   },
   "outputs": [],
   "source": [
    "Network = namedtuple('Network', 's a r a_softmax graph_v policy_loss value_loss')"
   ]
  },
  {
   "cell_type": "code",
   "execution_count": 6,
   "metadata": {
    "collapsed": true
   },
   "outputs": [],
   "source": [
    "def create_network(scope):\n",
    "    with tf.variable_scope(scope):\n",
    "        graph_s = tf.placeholder(tf.float32, [None, 84, 84, 4])\n",
    "        graph_action = tf.placeholder(tf.int64, [None])\n",
    "        graph_r = tf.placeholder(tf.float32, [None])\n",
    "\n",
    "        x = tf.layers.conv2d(\n",
    "                inputs=graph_s,\n",
    "                filters=32,\n",
    "                kernel_size=8,\n",
    "                strides=4,\n",
    "                activation=tf.nn.relu)\n",
    "\n",
    "        x = tf.layers.conv2d(\n",
    "                inputs=x,\n",
    "                filters=64,\n",
    "                kernel_size=4,\n",
    "                strides=2,\n",
    "                activation=tf.nn.relu)\n",
    "\n",
    "        x = tf.layers.conv2d(\n",
    "                inputs=x,\n",
    "                filters=64,\n",
    "                kernel_size=3,\n",
    "                strides=1,\n",
    "                activation=tf.nn.relu)\n",
    "\n",
    "        w, h, f = x.shape[1:]\n",
    "        x = tf.reshape(x, [-1, int(w * h * f)])\n",
    "\n",
    "        x = tf.layers.dense(\n",
    "                inputs=x,\n",
    "                units=512,\n",
    "                activation=tf.nn.relu)\n",
    "\n",
    "        a_logits = tf.layers.dense(\n",
    "                inputs=x,\n",
    "                units=N_ACTIONS,\n",
    "                activation=None)\n",
    "\n",
    "        a_softmax = tf.nn.softmax(a_logits)\n",
    "\n",
    "        graph_v = tf.layers.dense(\n",
    "            inputs=x,\n",
    "            units=1,\n",
    "            activation=None)\n",
    "        #graph_v = graph_v[:, 0]\n",
    "\n",
    "        p = 0\n",
    "        for i in range(N_ACTIONS):\n",
    "            p += tf.cast(tf.equal(graph_action, i), tf.float32) * a_softmax[:, i]\n",
    "        nlp = -1 * tf.log(p)\n",
    "        policy_loss = tf.reduce_mean(nlp * graph_r)\n",
    "\n",
    "        value_loss = tf.reduce_mean((graph_r - graph_v) ** 2)\n",
    "        \n",
    "        network = Network(\n",
    "            s=graph_s,\n",
    "            a=graph_action,\n",
    "            r=graph_r,\n",
    "            a_softmax=a_softmax,\n",
    "            graph_v=graph_v,\n",
    "            policy_loss=policy_loss,\n",
    "            value_loss=value_loss)\n",
    "        \n",
    "        return network"
   ]
  },
  {
   "cell_type": "code",
   "execution_count": null,
   "metadata": {
    "collapsed": true
   },
   "outputs": [],
   "source": [
    "tf.summary.scalar('loss', loss)\n",
    "tf.summary.scalar('loss2', loss2)\n",
    "summaries = tf.summary.merge_all()\n",
    "summary_writer = tf.summary.FileWriter('summaries/')"
   ]
  },
  {
   "cell_type": "code",
   "execution_count": 7,
   "metadata": {
    "collapsed": true
   },
   "outputs": [],
   "source": [
    "def list_set(l, i, val):\n",
    "    assert(len(l) == i)\n",
    "    l[i] = val"
   ]
  },
  {
   "cell_type": "code",
   "execution_count": 18,
   "metadata": {
    "collapsed": true
   },
   "outputs": [],
   "source": [
    "class Worker:\n",
    "    \n",
    "    def __init__(self, worker_n, env_name):\n",
    "        self.env = gym.make(env_name)\n",
    "        \n",
    "        worker_scope = \"worker_%d\" % worker_n\n",
    "        self.network = create_network(worker_scope)\n",
    "        self.scope = worker_scope\n",
    "        \n",
    "        # TODO: do these need to be separate\n",
    "        policy_optimizer = tf.train.AdamOptimizer()\n",
    "        value_optimizer = tf.train.AdamOptimizer()\n",
    "        \n",
    "        self.update_policy_gradients, self.apply_policy_gradients, self.zero_policy_gradients = \\\n",
    "            create_train_ops(self.network.policy_loss,\n",
    "                             policy_optimizer,\n",
    "                             update_scope=worker_scope,\n",
    "                             apply_scope='global')\n",
    "        \n",
    "        self.update_value_gradients, self.apply_value_gradients, self.zero_value_gradients = \\\n",
    "            create_train_ops(self.network.value_loss,\n",
    "                             value_optimizer,\n",
    "                             update_scope=worker_scope,\n",
    "                             apply_scope='global')\n",
    "        \n",
    "        self.env.reset()\n",
    "\n",
    "        self.t_max = 100\n",
    "\n",
    "        \n",
    "    def run_episode(self):\n",
    "        states = []\n",
    "        actions = []\n",
    "        rewards = []\n",
    "        i = 0\n",
    "        \n",
    "        sess.run([self.zero_policy_gradients,\n",
    "                  self.zero_value_gradients])\n",
    "        copy_network(sess,\n",
    "                     from_scope='global',\n",
    "                     to_scope=self.scope)\n",
    "\n",
    "        o, _, _ = utils.get_o(self.env, 0) # 0 = do nothing (in Pong, at least)\n",
    "        list_set(states, i, o)\n",
    "\n",
    "        done = False\n",
    "        while not done and i < self.t_max:\n",
    "            feed_dict = {self.network.graph_s: [o]}\n",
    "            a_p = sess.run(a_softmax, feed_dict=feed_dict)[0]\n",
    "            a = np.random.choice(ACTIONS, p=a_p)\n",
    "            list_set(actions, i, a)\n",
    "\n",
    "            o, r, done = utils.get_o(self.env, a)\n",
    "            list_set(rewards, i, r)\n",
    "            list_set(states, i + 1, o)\n",
    "\n",
    "            i += 1\n",
    "\n",
    "        if done:\n",
    "            r = 0\n",
    "        else:\n",
    "            feed_dict = {self.network.s: [list_get(states, self.t)]}\n",
    "            r = sess.run(self.network.graph_v, feed_dict=feed_dict)\n",
    "\n",
    "        for j in range(i, -1, -1):\n",
    "            r = rewards[j] + G * r\n",
    "            feed_dict = {self.network.s: states[j],\n",
    "                         self.network.a: actions[j] - 1, # map from possible actions (1, 2, 3) -> (0, 1, 2)\n",
    "                         self.network.r: r}\n",
    "            sess.run([self.update_policy_gradients,\n",
    "                      self.update_value_gradients],\n",
    "                      feed_dict=feed_dict)\n",
    "        sess.run([self.apply_policy_gradients,\n",
    "                  self.apply_value_gradients])\n",
    "        sess.run([self.zero_policy_gradients,\n",
    "                  self.zero_value_gradients])"
   ]
  },
  {
   "cell_type": "code",
   "execution_count": 19,
   "metadata": {
    "collapsed": true
   },
   "outputs": [],
   "source": [
    "tf.reset_default_graph()\n",
    "sess = tf.Session()"
   ]
  },
  {
   "cell_type": "code",
   "execution_count": 20,
   "metadata": {},
   "outputs": [],
   "source": [
    "global_network = create_network('global')"
   ]
  },
  {
   "cell_type": "code",
   "execution_count": null,
   "metadata": {
    "scrolled": false
   },
   "outputs": [
    {
     "name": "stderr",
     "output_type": "stream",
     "text": [
      "[2017-07-23 19:11:55,023] Making new env: Pong-v0\n",
      "[2017-07-23 19:11:58,313] Making new env: Pong-v0\n"
     ]
    }
   ],
   "source": [
    "workers = []\n",
    "for i in range(4):\n",
    "    worker = Worker(i, 'Pong-v0')"
   ]
  },
  {
   "cell_type": "markdown",
   "metadata": {},
   "source": [
    "## Action probability selection test"
   ]
  },
  {
   "cell_type": "code",
   "execution_count": null,
   "metadata": {
    "collapsed": true
   },
   "outputs": [],
   "source": [
    "sess.run(tf.global_variables_initializer())\n",
    "s = np.random.random((1, 84, 84, 4))\n",
    "s = np.vstack([s] * N_ACTIONS)\n",
    "expected = -1 * np.log(sess.run(a_softmax, feed_dict={graph_s: s})[0])\n",
    "actual = sess.run(nlp, feed_dict={graph_s: s, graph_action: np.arange(N_ACTIONS)})\n",
    "np.testing.assert_allclose(expected, actual)"
   ]
  },
  {
   "cell_type": "markdown",
   "metadata": {},
   "source": [
    "## Basic policy network training test"
   ]
  },
  {
   "cell_type": "code",
   "execution_count": null,
   "metadata": {},
   "outputs": [],
   "source": [
    "sess.run(tf.global_variables_initializer())\n",
    "n = 5\n",
    "s = np.random.random((1, 84, 84, 4))\n",
    "s = np.vstack([s] * n)\n",
    "\n",
    "# encourage action 0\n",
    "print(sess.run(a_softmax, feed_dict={graph_s: s})[0])\n",
    "a = [0] * n\n",
    "ad = [1] * n\n",
    "for i in range(3):\n",
    "    sess.run(t, feed_dict={graph_s: s, graph_action: a, graph_advantage: ad})\n",
    "    print(sess.run(a_softmax, feed_dict={graph_s: s})[0])\n",
    "    \n",
    "# now the probability of action[0] will be very close to 1,\n",
    "# so the gradients will be too small to work\n",
    "# so reset\n",
    "sess.run(tf.global_variables_initializer())\n",
    "print()\n",
    "\n",
    "# discourage action 0\n",
    "print(sess.run(a_softmax, feed_dict={graph_s: s})[0])\n",
    "a = [0] * n\n",
    "ad = [-1] * n\n",
    "for i in range(3):\n",
    "    sess.run(t, feed_dict={graph_s: s, graph_action: a, graph_advantage: ad})\n",
    "    print(sess.run(a_softmax, feed_dict={graph_s: s})[0])"
   ]
  },
  {
   "cell_type": "code",
   "execution_count": null,
   "metadata": {},
   "outputs": [],
   "source": [
    "sess.run(tf.global_variables_initializer())\n",
    "sess.run(tf.assign(graph_lr, 1e-3))\n",
    "print(sess.run(a_softmax, feed_dict={graph_s: s})[0])"
   ]
  },
  {
   "cell_type": "code",
   "execution_count": null,
   "metadata": {},
   "outputs": [],
   "source": [
    "sess.run(t1, feed_dict={graph_s: s, graph_action: [0], graph_advantage: [-1]})\n",
    "print(sess.run(a_softmax, feed_dict={graph_s: s})[0])"
   ]
  },
  {
   "cell_type": "markdown",
   "metadata": {},
   "source": [
    "## Basic value network training test"
   ]
  },
  {
   "cell_type": "code",
   "execution_count": null,
   "metadata": {},
   "outputs": [],
   "source": [
    "s = np.random.normal(size=(5, 84, 84, 4))\n",
    "r = np.array([1, 2, 3, 4, 5]) / 5.0\n",
    "print(r)\n",
    "sess.run(tf.global_variables_initializer())\n",
    "sess.run(graph_v, feed_dict={graph_s: s})"
   ]
  },
  {
   "cell_type": "code",
   "execution_count": null,
   "metadata": {},
   "outputs": [],
   "source": [
    "sess.run(t2, feed_dict={graph_s: s, graph_r: r})\n",
    "sess.run([loss2, graph_v], feed_dict={graph_s: s, graph_r: r})"
   ]
  },
  {
   "cell_type": "markdown",
   "metadata": {},
   "source": [
    "## Dummy environment"
   ]
  },
  {
   "cell_type": "code",
   "execution_count": null,
   "metadata": {
    "collapsed": true
   },
   "outputs": [],
   "source": [
    "class DummyEnv:\n",
    "    action_space = gym.spaces.discrete.Discrete(2)\n",
    "    N_STATES = 3\n",
    "    N_REWARDED_SEQUENCES = int(N_ACTIONS ** N_STATES / 10)\n",
    "    \n",
    "    def __init__(self):\n",
    "        self.rewarded_sequences = np.clip(np.random.normal(loc=int(N_ACTIONS / 2), size=(self.N_REWARDED_SEQUENCES, self.N_STATES)).astype(np.int), 0, N_ACTIONS)\n",
    "        self.rewarded_sequences = np.unique(self.rewarded_sequences, axis=0)\n",
    "        self.o = {}\n",
    "        # look at all unique sequence prefixes\n",
    "        for i in range(1, self.N_STATES + 1):\n",
    "            prefixes = np.unique(env.rewarded_sequences[:, :i], axis=0)\n",
    "            for p in prefixes:\n",
    "                self.o[tuple(p)] = np.random.normal(size=(84, 84, 4))\n",
    "        self.default_o = np.random.normal(size=(84, 84, 4))\n",
    "        self.init_o = np.random.normal(size=(84, 84, 4))\n",
    "    \n",
    "    def reset(self):\n",
    "        self.i = 0\n",
    "        self.history = []\n",
    "        self.possible_sequences = np.copy(self.rewarded_sequences)\n",
    "        return self.init_o\n",
    "    \n",
    "    def step(self, a):\n",
    "        self.history.append(a)\n",
    "        \n",
    "        ps_new = []\n",
    "        l = len(self.history)\n",
    "        for seq in self.possible_sequences:\n",
    "            if np.array_equal(seq[:l], self.history):\n",
    "                ps_new.append(seq)\n",
    "        self.possible_sequences = ps_new\n",
    "        if len(self.possible_sequences) > 0:\n",
    "            reward = 1\n",
    "        else:\n",
    "            reward = 0\n",
    "            \n",
    "        if tuple(self.history) in self.o:\n",
    "            o = self.o[tuple(self.history)]\n",
    "        else:\n",
    "            o = self.default_o\n",
    "\n",
    "        if self.i != self.N_STATES - 1:\n",
    "            done = False\n",
    "            self.i += 1\n",
    "        else:\n",
    "            done = True\n",
    "\n",
    "        return o, reward, done, None"
   ]
  },
  {
   "cell_type": "code",
   "execution_count": null,
   "metadata": {
    "collapsed": true
   },
   "outputs": [],
   "source": [
    "env = DummyEnv()"
   ]
  },
  {
   "cell_type": "code",
   "execution_count": null,
   "metadata": {},
   "outputs": [],
   "source": [
    "for i in range(N_ACTIONS):\n",
    "    env.reset()\n",
    "    env.step(i)\n",
    "    print(len(env.possible_sequences))"
   ]
  },
  {
   "cell_type": "code",
   "execution_count": null,
   "metadata": {},
   "outputs": [],
   "source": [
    "# Initial state same?\n",
    "o = env.reset()\n",
    "print(np.sum(o))\n",
    "o = env.reset()\n",
    "print(np.sum(o))"
   ]
  },
  {
   "cell_type": "code",
   "execution_count": null,
   "metadata": {},
   "outputs": [],
   "source": [
    "# Default state the same?\n",
    "env.reset()\n",
    "o, _, _, _ = env.step(0)\n",
    "print(np.sum(o))\n",
    "env.reset()\n",
    "o, _, _, _ = env.step(8)\n",
    "print(np.sum(o))"
   ]
  },
  {
   "cell_type": "code",
   "execution_count": null,
   "metadata": {},
   "outputs": [],
   "source": [
    "# Always the same state returned for a given sequence?\n",
    "env.reset()\n",
    "o, _, _, _ = env.step(5)\n",
    "print(np.sum(o))\n",
    "env.reset()\n",
    "o, _, _, _ = env.step(5)\n",
    "print(np.sum(o))\n",
    "\n",
    "env.reset()\n",
    "env.step(5)\n",
    "o, _, _, _ = env.step(5)\n",
    "print(np.sum(o))\n",
    "env.reset()\n",
    "env.step(5)\n",
    "o, _, _, _ = env.step(5)\n",
    "print(np.sum(o))"
   ]
  },
  {
   "cell_type": "code",
   "execution_count": null,
   "metadata": {},
   "outputs": [],
   "source": [
    "def test_seq(seq):\n",
    "    for a in seq:\n",
    "        print(\"Took action\", a)\n",
    "        _, reward, done, _ = env.step(a)\n",
    "        print(\"Got reward \", reward)\n",
    "        print(\"Done:\", done)\n",
    "\n",
    "env.reset()\n",
    "test_seq([0, 0, 0])\n",
    "print()\n",
    "env.reset()\n",
    "test_seq(env.rewarded_sequences[0])"
   ]
  },
  {
   "cell_type": "markdown",
   "metadata": {},
   "source": [
    "## Testing proper"
   ]
  },
  {
   "cell_type": "markdown",
   "metadata": {},
   "source": [
    "### Manual testing"
   ]
  },
  {
   "cell_type": "code",
   "execution_count": null,
   "metadata": {
    "collapsed": true
   },
   "outputs": [],
   "source": [
    "sess.run(tf.global_variables_initializer())\n",
    "sess.run(t, feed_dict={graph_s: [env.o[2]], graph_action: [1], graph_advantage: [1]})\n",
    "sess.run(a_softmax, feed_dict={graph_s: env.o})"
   ]
  },
  {
   "cell_type": "markdown",
   "metadata": {},
   "source": [
    "### Testing with environment"
   ]
  },
  {
   "cell_type": "code",
   "execution_count": null,
   "metadata": {
    "collapsed": true
   },
   "outputs": [],
   "source": [
    "rpe = []\n",
    "rpe2 = []\n",
    "sess.run(tf.global_variables_initializer())\n",
    "steps = 0"
   ]
  },
  {
   "cell_type": "code",
   "execution_count": null,
   "metadata": {
    "collapsed": true
   },
   "outputs": [],
   "source": [
    "def run(n_episodes=1000):\n",
    "    global steps\n",
    "    for i in range(n_episodes):\n",
    "        if i % 100 == 0:\n",
    "            print(i)\n",
    "        env.reset()\n",
    "        o, _, _ = get_o(0) # do nothing\n",
    "        done = False\n",
    "        episode_rewards = []\n",
    "        rewards = []\n",
    "        actions = []\n",
    "        states = []\n",
    "        while not done:\n",
    "            states.append(o)\n",
    "            a_p = sess.run(a_softmax, feed_dict={graph_s: [o]})[0]\n",
    "            a = np.random.choice(ACTIONS, p=a_p)\n",
    "            actions.append(a)\n",
    "\n",
    "            o, r, done = get_o(a)\n",
    "            rewards.append(r)\n",
    "\n",
    "            if r != 0:\n",
    "                episode_rewards.append(r)\n",
    "                returns = rewards_to_returns(rewards, G=0.9)\n",
    "                actions = np.array(actions) - 1 # map from possible actions (1, 2, 3) -> (0, 1, 2)\n",
    "                summ, _, _ = sess.run([summaries, t, t2], feed_dict={graph_s: states, graph_action: actions, graph_r: returns})\n",
    "                summary_writer.add_summary(summ, steps)\n",
    "                rewards = []\n",
    "                actions = []\n",
    "                states = []\n",
    "                steps += 1\n",
    "        \n",
    "        rpe2.append(episode_rewards)\n",
    "        if len(rpe) is 0:\n",
    "            rpe.append(np.sum(episode_rewards))\n",
    "        else:\n",
    "            rpe.append(rpe[-1] + 0.01 * (np.sum(episode_rewards) - rpe[-1]))"
   ]
  },
  {
   "cell_type": "code",
   "execution_count": null,
   "metadata": {
    "collapsed": true
   },
   "outputs": [],
   "source": [
    "RENDER = True\n",
    "run(n_episodes=1)"
   ]
  },
  {
   "cell_type": "code",
   "execution_count": null,
   "metadata": {
    "collapsed": true
   },
   "outputs": [],
   "source": [
    "rpe = [np.sum(rpe2[0])]\n",
    "for s in rpe2[1:]:\n",
    "    rpe.append(rpe[-1] + 0.01 * (np.sum(s) - rpe[-1]))"
   ]
  },
  {
   "cell_type": "code",
   "execution_count": null,
   "metadata": {},
   "outputs": [],
   "source": [
    "plt.plot(rpe)"
   ]
  },
  {
   "cell_type": "markdown",
   "metadata": {},
   "source": [
    "## Old code"
   ]
  },
  {
   "cell_type": "code",
   "execution_count": null,
   "metadata": {},
   "outputs": [],
   "source": [
    "t = 0\n",
    "t_max = 100\n",
    "\n",
    "s = np.zeros(10)\n",
    "r1 = np.zeros(10)\n",
    "a = np.zeros(10)\n",
    "r2_list = []\n",
    "\n",
    "for i in range(10):\n",
    "    t_start = t\n",
    "    s[t] = env.reset()\n",
    "    done = False\n",
    "    \n",
    "    while True:\n",
    "        a_p = sess.run(ap_op, feed_dict={s_op: s})\n",
    "        a[t] = np.random.choice(ACTIONS, p=a_p)\n",
    "        s[t+1], r[t], done, _ = env.step(a[t])\n",
    "        t += 1        \n",
    "    if done or t - t_start == t_max:\n",
    "        break\n",
    "    \n",
    "    if done:\n",
    "        r2 = 0\n",
    "    else:\n",
    "        r2 = sess.run(v_op, feed_dict={s_op: s[t]})\n",
    "    \n",
    "    for i in range(t-1, t_start-1, -1):\n",
    "        r2_list.append(r[i] + g * r2)\n",
    "    \n",
    "    \n",
    "    sess.run(t1, feed_dict={s_op: s, big_r_op: r})\n",
    "    sess.run(t2, feed_dict={s_op: s, big_r_op: r})"
   ]
  },
  {
   "cell_type": "code",
   "execution_count": null,
   "metadata": {
    "collapsed": true
   },
   "outputs": [],
   "source": [
    "observation.shape\n",
    "action = env.action_space.sample()\n",
    "os = []\n",
    "for i in range(4):\n",
    "    o1, _, _, _ = env.step(action)\n",
    "    o2, _, _, _ = env.step(action)\n",
    "    o = np.maximum(o1, o2)\n",
    "    o = np.mean(o, axis=2)\n",
    "    o = scipy.misc.imresize(o, (84, 84))\n",
    "    os.append(o)\n",
    "os = np.stack(os, axis=-1)"
   ]
  },
  {
   "cell_type": "code",
   "execution_count": null,
   "metadata": {},
   "outputs": [],
   "source": [
    "os = np.resize(os, (1, 84, 84, 4))\n",
    "print(os.shape)\n",
    "print(sess.run(q['network1'], feed_dict={s: os}))\n",
    "print(sess.run(qi['network1'], feed_dict={s: os}))"
   ]
  },
  {
   "cell_type": "code",
   "execution_count": null,
   "metadata": {
    "collapsed": true
   },
   "outputs": [],
   "source": []
  }
 ],
 "metadata": {
  "kernelspec": {
   "display_name": "Python 3",
   "language": "python",
   "name": "python3"
  },
  "language_info": {
   "codemirror_mode": {
    "name": "ipython",
    "version": 3
   },
   "file_extension": ".py",
   "mimetype": "text/x-python",
   "name": "python",
   "nbconvert_exporter": "python",
   "pygments_lexer": "ipython3",
   "version": "3.5.2"
  }
 },
 "nbformat": 4,
 "nbformat_minor": 2
}
