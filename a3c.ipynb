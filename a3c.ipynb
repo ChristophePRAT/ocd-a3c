{
 "cells": [
  {
   "cell_type": "code",
   "execution_count": 36,
   "metadata": {},
   "outputs": [],
   "source": [
    "import tensorflow as tf\n",
    "import numpy as np\n",
    "import gym\n",
    "from pylab import *\n",
    "import scipy.misc"
   ]
  },
  {
   "cell_type": "code",
   "execution_count": 27,
   "metadata": {
    "collapsed": true
   },
   "outputs": [],
   "source": [
    "%matplotlib notebook"
   ]
  },
  {
   "cell_type": "code",
   "execution_count": 69,
   "metadata": {},
   "outputs": [],
   "source": [
    "tf.reset_default_graph()\n",
    "sess = tf.Session()\n",
    "sess.run(tf.global_variables_initializer())"
   ]
  },
  {
   "cell_type": "code",
   "execution_count": 70,
   "metadata": {},
   "outputs": [],
   "source": [
    "N_ACTIONS = 9\n",
    "\n",
    "input = tf.placeholder(tf.float32, [None, 84, 84, 4])\n",
    "\n",
    "with tf.variable_scope('network1'):\n",
    "    x = tf.layers.conv2d(\n",
    "            inputs=input,\n",
    "            filters=32,\n",
    "            kernel_size=8,\n",
    "            strides=4,\n",
    "            activation=tf.nn.relu)\n",
    "\n",
    "    x = tf.layers.conv2d(\n",
    "            inputs=x,\n",
    "            filters=64,\n",
    "            kernel_size=4,\n",
    "            strides=2,\n",
    "            activation=tf.nn.relu)\n",
    "\n",
    "    x = tf.layers.conv2d(\n",
    "            inputs=x,\n",
    "            filters=64,\n",
    "            kernel_size=3,\n",
    "            strides=1,\n",
    "            activation=tf.nn.relu)\n",
    "\n",
    "    w, h, f = x.shape[1:]\n",
    "    x = tf.reshape(x, [-1, int(w * h * f)])\n",
    "\n",
    "    x = tf.layers.dense(\n",
    "            inputs=x,\n",
    "            units=512,\n",
    "            activation=tf.nn.relu)\n",
    "\n",
    "\n",
    "    a = tf.layers.dense(\n",
    "            inputs=x,\n",
    "            units=N_ACTIONS,\n",
    "            activation=None)"
   ]
  },
  {
   "cell_type": "code",
   "execution_count": 81,
   "metadata": {},
   "outputs": [
    {
     "data": {
      "text/plain": [
       "[<tf.Variable 'conv2d/kernel:0' shape=(8, 8, 4, 32) dtype=float32_ref>,\n",
       " <tf.Variable 'conv2d/bias:0' shape=(32,) dtype=float32_ref>,\n",
       " <tf.Variable 'conv2d_1/kernel:0' shape=(4, 4, 32, 64) dtype=float32_ref>,\n",
       " <tf.Variable 'conv2d_1/bias:0' shape=(64,) dtype=float32_ref>,\n",
       " <tf.Variable 'conv2d_2/kernel:0' shape=(3, 3, 64, 64) dtype=float32_ref>,\n",
       " <tf.Variable 'conv2d_2/bias:0' shape=(64,) dtype=float32_ref>,\n",
       " <tf.Variable 'dense/kernel:0' shape=(3136, 512) dtype=float32_ref>,\n",
       " <tf.Variable 'dense/bias:0' shape=(512,) dtype=float32_ref>,\n",
       " <tf.Variable 'dense_1/kernel:0' shape=(512, 9) dtype=float32_ref>,\n",
       " <tf.Variable 'dense_1/bias:0' shape=(9,) dtype=float32_ref>]"
      ]
     },
     "execution_count": 81,
     "metadata": {},
     "output_type": "execute_result"
    }
   ],
   "source": [
    "tf.trainable_variables()"
   ]
  },
  {
   "cell_type": "code",
   "execution_count": 3,
   "metadata": {
    "scrolled": true
   },
   "outputs": [
    {
     "name": "stderr",
     "output_type": "stream",
     "text": [
      "[2017-07-12 18:54:54,029] Making new env: Enduro-v0\n"
     ]
    }
   ],
   "source": [
    "env = gym.make('Enduro-v0')\n",
    "observation = env.reset()"
   ]
  },
  {
   "cell_type": "code",
   "execution_count": 57,
   "metadata": {},
   "outputs": [],
   "source": [
    "observation.shape\n",
    "action = env.action_space.sample()\n",
    "os = []\n",
    "for i in range(4):\n",
    "    o1, _, _, _ = env.step(action)\n",
    "    o2, _, _, _ = env.step(action)\n",
    "    o = np.maximum(o1, o2)\n",
    "    o = np.mean(o, axis=2)\n",
    "    o = scipy.misc.imresize(o, (84, 84))\n",
    "    os.append(o)\n",
    "os = np.stack(os, axis=-1)"
   ]
  },
  {
   "cell_type": "code",
   "execution_count": 74,
   "metadata": {
    "collapsed": true
   },
   "outputs": [],
   "source": [
    "sess.run(tf.global_variables_initializer())"
   ]
  },
  {
   "cell_type": "code",
   "execution_count": 76,
   "metadata": {},
   "outputs": [
    {
     "name": "stdout",
     "output_type": "stream",
     "text": [
      "(1, 84, 84, 4)\n"
     ]
    }
   ],
   "source": [
    "os = np.resize(os, (1, 84, 84, 4))\n",
    "print(os.shape)\n",
    "actions = sess.run(a, feed_dict={input: os})"
   ]
  },
  {
   "cell_type": "code",
   "execution_count": 80,
   "metadata": {},
   "outputs": [
    {
     "data": {
      "text/plain": [
       "'\\nif done:\\n    y = reward\\nelse:\\n    y = gamma * max(network_2_output)\\n'"
      ]
     },
     "execution_count": 80,
     "metadata": {},
     "output_type": "execute_result"
    }
   ],
   "source": [
    "def with_prob(p):\n",
    "    if np.random.random() < p:\n",
    "        return True\n",
    "    else:\n",
    "        return False\n",
    "\n",
    "epsilon = 0.1\n",
    "    \n",
    "if with_prob(epsilon):\n",
    "    action = env.action_space.sample()\n",
    "else:\n",
    "    action = np.argmax(actions)\n",
    "\n",
    "\"\"\"\n",
    "if done:\n",
    "    y = reward\n",
    "else:\n",
    "    y = gamma * max(network_2_output)\n",
    "\"\"\""
   ]
  }
 ],
 "metadata": {
  "kernelspec": {
   "display_name": "Python 3",
   "language": "python",
   "name": "python3"
  },
  "language_info": {
   "codemirror_mode": {
    "name": "ipython",
    "version": 3
   },
   "file_extension": ".py",
   "mimetype": "text/x-python",
   "name": "python",
   "nbconvert_exporter": "python",
   "pygments_lexer": "ipython3",
   "version": "3.5.2"
  }
 },
 "nbformat": 4,
 "nbformat_minor": 2
}
