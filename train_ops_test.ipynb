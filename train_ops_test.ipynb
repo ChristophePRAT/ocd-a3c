{
 "cells": [
  {
   "cell_type": "code",
   "execution_count": 5,
   "metadata": {
    "collapsed": true
   },
   "outputs": [],
   "source": [
    "%load_ext autoreload\n",
    "%autoreload 2"
   ]
  },
  {
   "cell_type": "code",
   "execution_count": 108,
   "metadata": {
    "collapsed": true
   },
   "outputs": [],
   "source": [
    "import tensorflow as tf\n",
    "import unittest\n",
    "import re\n",
    "import numpy as np\n",
    "from train_ops import create_train_ops"
   ]
  },
  {
   "cell_type": "code",
   "execution_count": 148,
   "metadata": {},
   "outputs": [],
   "source": [
    "def assert_grad_bufs_zero():\n",
    "    for buf in grad_bufs.items():\n",
    "        val = sess.run(buf)[0]\n",
    "        np.testing.assert_equal(val, np.array([0., 0.]))"
   ]
  },
  {
   "cell_type": "code",
   "execution_count": 125,
   "metadata": {
    "collapsed": true
   },
   "outputs": [],
   "source": [
    "inits = {}\n",
    "inits['w1'] = np.array([10.0, 20.0]).astype(np.float32)\n",
    "inits['w2'] = np.array([5.0, 10.0]).astype(np.float32)\n",
    "\n",
    "scopes = ['update_scope', 'apply_scope']"
   ]
  },
  {
   "cell_type": "code",
   "execution_count": 158,
   "metadata": {},
   "outputs": [],
   "source": [
    "tf.reset_default_graph()\n",
    "sess = tf.Session()\n",
    "\n",
    "vars = {}\n",
    "losses = {}\n",
    "for scope in scopes:\n",
    "    with tf.variable_scope(scope):\n",
    "        w1 = tf.Variable(inits['w1'], name='w1')\n",
    "        w2 = tf.Variable(inits['w2'], name='w2')\n",
    "        losses[scope] = w1 + 2 * w2\n",
    "        vars[scope] = {'w1': w1, 'w2': w2}\n",
    "\n",
    "o = tf.train.GradientDescentOptimizer(learning_rate=1)\n",
    "update_ops, apply_ops = \\\n",
    "    create_train_ops(losses['update_scope'], o, 'update_scope', 'apply_scope')\n",
    "    \n",
    "sess.run(tf.global_variables_initializer())"
   ]
  },
  {
   "cell_type": "code",
   "execution_count": 159,
   "metadata": {},
   "outputs": [],
   "source": [
    "\"\"\"\n",
    "Check that no extra trainable variables have been introduced.\n",
    "\"\"\"\n",
    "assert(len(tf.trainable_variables()) == 4)"
   ]
  },
  {
   "cell_type": "code",
   "execution_count": 160,
   "metadata": {
    "collapsed": true
   },
   "outputs": [],
   "source": [
    "grad_bufs = {v.name: v for v in tf.global_variables() if 'grad_buf' in v.name}"
   ]
  },
  {
   "cell_type": "code",
   "execution_count": 161,
   "metadata": {
    "collapsed": true
   },
   "outputs": [],
   "source": [
    "\"\"\"\n",
    "Check that the gradient buffers start out zero.\n",
    "\"\"\"\n",
    "assert_grad_bufs_zero()"
   ]
  },
  {
   "cell_type": "code",
   "execution_count": 162,
   "metadata": {
    "collapsed": true
   },
   "outputs": [],
   "source": [
    "sess.run(update_ops)"
   ]
  },
  {
   "cell_type": "code",
   "execution_count": 163,
   "metadata": {
    "collapsed": true
   },
   "outputs": [],
   "source": [
    "\"\"\"\n",
    "Confirm that no changes have taken place to the trainable\n",
    "variables yet in either scope.\n",
    "\"\"\"\n",
    "for scope in scopes:\n",
    "    for var_name, var in vars[scope].items():\n",
    "        val = sess.run(var)\n",
    "        np.testing.assert_equal(val, inits[var_name])"
   ]
  },
  {
   "cell_type": "code",
   "execution_count": 164,
   "metadata": {},
   "outputs": [],
   "source": [
    "\"\"\"\n",
    "Confirm that the gradient buffers look reasonable.\n",
    "\"\"\"\n",
    "for buf_name, buf in grad_bufs.items():\n",
    "    actual = sess.run(buf)\n",
    "    if 'w1' in buf_name:\n",
    "        expected = [1., 1.]\n",
    "    elif 'w2' in buf_name:\n",
    "        expected = [2., 2.]\n",
    "    np.testing.assert_equal(actual, expected)"
   ]
  },
  {
   "cell_type": "code",
   "execution_count": 165,
   "metadata": {
    "collapsed": true
   },
   "outputs": [],
   "source": [
    "sess.run(update_ops)"
   ]
  },
  {
   "cell_type": "code",
   "execution_count": 166,
   "metadata": {
    "collapsed": true
   },
   "outputs": [],
   "source": [
    "\"\"\"\n",
    "Confirm that the gradient buffers still look reasonable.\n",
    "\"\"\"\n",
    "for buf_name, buf in grad_bufs.items():\n",
    "    actual = sess.run(buf)\n",
    "    if 'w1' in buf_name:\n",
    "        expected = [2., 2.]\n",
    "    elif 'w2' in buf_name:\n",
    "        expected = [4., 4.]\n",
    "    np.testing.assert_equal(actual, expected)"
   ]
  },
  {
   "cell_type": "code",
   "execution_count": 167,
   "metadata": {
    "collapsed": true
   },
   "outputs": [],
   "source": [
    "sess.run(apply_ops)"
   ]
  },
  {
   "cell_type": "code",
   "execution_count": 168,
   "metadata": {
    "collapsed": true
   },
   "outputs": [],
   "source": [
    "\"\"\"\n",
    "Check that gradient buffers have been zeroed.\n",
    "\"\"\"\n",
    "assert_grad_bufs_zero()"
   ]
  },
  {
   "cell_type": "code",
   "execution_count": 169,
   "metadata": {},
   "outputs": [],
   "source": [
    "\"\"\"\n",
    "Confirm that no changes have been made to the variables in update_scope.\n",
    "\"\"\"\n",
    "for var_name, var in vars['update_scope'].items():\n",
    "    actual = sess.run(var)\n",
    "    if 'w1' in var_name:\n",
    "        expected = inits['w1']\n",
    "    elif 'w2' in var_name:\n",
    "        expected = inits['w2']\n",
    "    np.testing.assert_equal(actual, expected)"
   ]
  },
  {
   "cell_type": "code",
   "execution_count": 170,
   "metadata": {},
   "outputs": [
    {
     "data": {
      "text/plain": [
       "'\\nConfirm that changes _have_ been made to the variables in apply_scope.\\n'"
      ]
     },
     "execution_count": 170,
     "metadata": {},
     "output_type": "execute_result"
    }
   ],
   "source": [
    "\"\"\"\n",
    "Confirm that changes _have_ been made to the variables in apply_scope.\n",
    "\"\"\""
   ]
  }
 ],
 "metadata": {
  "kernelspec": {
   "display_name": "Python 3",
   "language": "python",
   "name": "python3"
  },
  "language_info": {
   "codemirror_mode": {
    "name": "ipython",
    "version": 3
   },
   "file_extension": ".py",
   "mimetype": "text/x-python",
   "name": "python",
   "nbconvert_exporter": "python",
   "pygments_lexer": "ipython3",
   "version": "3.5.2"
  }
 },
 "nbformat": 4,
 "nbformat_minor": 2
}
